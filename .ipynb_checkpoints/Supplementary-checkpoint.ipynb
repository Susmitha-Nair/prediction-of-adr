{
 "cells": [
  {
   "cell_type": "markdown",
   "metadata": {},
   "source": [
    "# Section 2.3.1"
   ]
  },
  {
   "cell_type": "code",
   "execution_count": null,
   "metadata": {},
   "outputs": [],
   "source": [
    "import numpy as np\n",
    "import pandas as pd\n",
    "import matplotlib.pyplot as plt"
   ]
  },
  {
   "cell_type": "markdown",
   "metadata": {},
   "source": [
    "# Number of layers/neurons"
   ]
  },
  {
   "cell_type": "markdown",
   "metadata": {},
   "source": [
    "## High\n",
    "#### ANN Performance"
   ]
  },
  {
   "cell_type": "code",
   "execution_count": 14,
   "metadata": {},
   "outputs": [],
   "source": [
    "high1 = pd.read_csv(\"sup/set-layers1.csv\")\n",
    "high2 = pd.read_csv(\"sup/set-layers2.csv\")\n",
    "high3 = pd.read_csv(\"sup/set-layers3.csv\")\n",
    "high4 = pd.read_csv(\"sup/set-layers4.csv\")\n",
    "\n",
    "high1.drop([\"Unnamed: 0\", 'subset'], axis=1, inplace=True)\n",
    "high2.drop([\"Unnamed: 0\", 'subset'], axis=1, inplace=True)\n",
    "high3.drop([\"Unnamed: 0\", 'subset'], axis=1, inplace=True)\n",
    "high4.drop([\"Unnamed: 0\", 'subset'], axis=1, inplace=True)"
   ]
  },
  {
   "cell_type": "code",
   "execution_count": 19,
   "metadata": {},
   "outputs": [
    {
     "data": {
      "text/plain": [
       "trainingAcc     0.808892\n",
       "testingAcc      0.819160\n",
       "trainAuc        0.585128\n",
       "testAuc         0.587730\n",
       "trainPre        0.199590\n",
       "testPre         0.200355\n",
       "trainRe         0.085225\n",
       "testRe          0.075645\n",
       "trainingLoss    0.465386\n",
       "testingLoss     0.456058\n",
       "dtype: float64"
      ]
     },
     "execution_count": 19,
     "metadata": {},
     "output_type": "execute_result"
    }
   ],
   "source": [
    "annHighs = high1.append(high2, ignore_index=True)\n",
    "annHighs = annHighs.append(high3, ignore_index=True)\n",
    "annHighs = annHighs.append(high4, ignore_index=True)\n",
    "annHighs = annHighs.mean()\n",
    "annHighs"
   ]
  },
  {
   "cell_type": "markdown",
   "metadata": {},
   "source": [
    "#### Average scores of 4 datasets"
   ]
  },
  {
   "cell_type": "code",
   "execution_count": 39,
   "metadata": {},
   "outputs": [
    {
     "data": {
      "text/plain": [
       "scoreF1     0.573051\n",
       "scoreAcc    0.748829\n",
       "scoreRoc    0.577450\n",
       "dtype: float64"
      ]
     },
     "execution_count": 39,
     "metadata": {},
     "output_type": "execute_result"
    }
   ],
   "source": [
    "resultsHigh = pd.read_csv(\"average-high.csv\")\n",
    "resultsHigh.drop(\"Unnamed: 0\", axis=1, inplace=True)\n",
    "resultsHigh = resultsHigh.mean()\n",
    "resultsHigh"
   ]
  },
  {
   "cell_type": "markdown",
   "metadata": {},
   "source": [
    "## Medium\n",
    "#### ANN Performance"
   ]
  },
  {
   "cell_type": "code",
   "execution_count": 111,
   "metadata": {},
   "outputs": [
    {
     "data": {
      "text/plain": [
       "trainingAcc     0.830989\n",
       "testingAcc      0.826048\n",
       "trainAuc        0.707640\n",
       "testAuc         0.708129\n",
       "trainPre        0.510894\n",
       "testPre         0.511728\n",
       "trainRe         0.070037\n",
       "testRe          0.069319\n",
       "trainingLoss    0.401018\n",
       "testingLoss     0.418311\n",
       "dtype: float64"
      ]
     },
     "execution_count": 111,
     "metadata": {},
     "output_type": "execute_result"
    }
   ],
   "source": [
    "annMeds = pd.read_csv(\"full-ann-df.csv\")\n",
    "annMeds.drop([\"Unnamed: 0\", 'subset'], axis=1, inplace=True)\n",
    "annMeds = annMeds.mean()\n",
    "annMeds"
   ]
  },
  {
   "cell_type": "markdown",
   "metadata": {},
   "source": [
    "#### Average scores of 4 datasets"
   ]
  },
  {
   "cell_type": "code",
   "execution_count": 37,
   "metadata": {},
   "outputs": [],
   "source": [
    "resultsMed = pd.read_csv(\"average-ten-f1-based.csv\")\n",
    "resultsMed.drop(\"Unnamed: 0\", axis=1, inplace=True)\n",
    "resultsMed = resultsMed.mean()"
   ]
  },
  {
   "cell_type": "code",
   "execution_count": 38,
   "metadata": {},
   "outputs": [
    {
     "data": {
      "text/plain": [
       "scoreF1     0.630536\n",
       "scoreAcc    0.787400\n",
       "scoreRoc    0.633511\n",
       "dtype: float64"
      ]
     },
     "execution_count": 38,
     "metadata": {},
     "output_type": "execute_result"
    }
   ],
   "source": [
    "resultsMed"
   ]
  },
  {
   "cell_type": "markdown",
   "metadata": {},
   "source": [
    "## Low\n",
    "#### ANN Performance"
   ]
  },
  {
   "cell_type": "code",
   "execution_count": 42,
   "metadata": {},
   "outputs": [],
   "source": [
    "low1 = pd.read_csv(\"sup/set-less-layers1.csv\")\n",
    "low2 = pd.read_csv(\"sup/set-less-layers2.csv\")\n",
    "low3 = pd.read_csv(\"sup/set-less-layers3.csv\")\n",
    "low4 = pd.read_csv(\"sup/set-less-layers4.csv\")\n",
    "\n",
    "low1.drop([\"Unnamed: 0\", 'subset'], axis=1, inplace=True)\n",
    "low2.drop([\"Unnamed: 0\", 'subset'], axis=1, inplace=True)\n",
    "low3.drop([\"Unnamed: 0\", 'subset'], axis=1, inplace=True)\n",
    "low4.drop([\"Unnamed: 0\", 'subset'], axis=1, inplace=True)"
   ]
  },
  {
   "cell_type": "code",
   "execution_count": 43,
   "metadata": {
    "scrolled": true
   },
   "outputs": [
    {
     "data": {
      "text/plain": [
       "trainingAcc     0.808874\n",
       "testingAcc      0.816278\n",
       "trainAuc        0.595810\n",
       "testAuc         0.597769\n",
       "trainPre        0.205618\n",
       "testPre         0.206200\n",
       "trainRe         0.090227\n",
       "testRe          0.083699\n",
       "trainingLoss    0.464705\n",
       "testingLoss     0.453999\n",
       "dtype: float64"
      ]
     },
     "execution_count": 43,
     "metadata": {},
     "output_type": "execute_result"
    }
   ],
   "source": [
    "annLows = low1.append(low2, ignore_index=True)\n",
    "annLows = annLows.append(low3, ignore_index=True)\n",
    "annLows = annLows.append(low4, ignore_index=True)\n",
    "annLows = annLows.mean()\n",
    "annLows"
   ]
  },
  {
   "cell_type": "markdown",
   "metadata": {},
   "source": [
    "#### Average scores of 4 datasets"
   ]
  },
  {
   "cell_type": "code",
   "execution_count": 46,
   "metadata": {},
   "outputs": [],
   "source": [
    "resultsLows = pd.read_csv(\"average-low.csv\")\n",
    "resultsLows.drop(\"Unnamed: 0\", axis=1, inplace=True)\n",
    "resultsLows = resultsLows.mean()"
   ]
  },
  {
   "cell_type": "code",
   "execution_count": 47,
   "metadata": {},
   "outputs": [
    {
     "data": {
      "text/plain": [
       "scoreF1     0.587560\n",
       "scoreAcc    0.755895\n",
       "scoreRoc    0.592987\n",
       "dtype: float64"
      ]
     },
     "execution_count": 47,
     "metadata": {},
     "output_type": "execute_result"
    }
   ],
   "source": [
    "resultsLows"
   ]
  },
  {
   "cell_type": "markdown",
   "metadata": {},
   "source": [
    "## Comparing Models"
   ]
  },
  {
   "cell_type": "code",
   "execution_count": 114,
   "metadata": {},
   "outputs": [],
   "source": [
    "df = pd.DataFrame()\n",
    "df['High'] = annHighs.values\n",
    "df['Medium'] = annMeds.values\n",
    "df['Low'] = annLows.values\n",
    "df.index = annHighs.keys()"
   ]
  },
  {
   "cell_type": "code",
   "execution_count": 116,
   "metadata": {},
   "outputs": [
    {
     "data": {
      "text/plain": [
       "Text(0, 0.5, 'Scores')"
      ]
     },
     "execution_count": 116,
     "metadata": {},
     "output_type": "execute_result"
    },
    {
     "data": {
      "image/png": "[encoded data removed]",
      "text/plain": [
       "<Figure size 1152x720 with 1 Axes>"
      ]
     },
     "metadata": {
      "needs_background": "light"
     },
     "output_type": "display_data"
    }
   ],
   "source": [
    "ax = df.plot(kind='bar', colormap = \"Set3_r\", figsize=(16,10), title=\"Average scores for each model\")\n",
    "ax.set_ylabel(\"Scores\")"
   ]
  },
  {
   "cell_type": "markdown",
   "metadata": {},
   "source": [
    "## Comparing Results"
   ]
  },
  {
   "cell_type": "code",
   "execution_count": 71,
   "metadata": {},
   "outputs": [],
   "source": [
    "df = pd.DataFrame(columns = [\"High\", \"Medium\", \"Low\"])\n",
    "df['High'] = resultsHigh.values\n",
    "df['Medium'] = resultsMed.values\n",
    "df['Low'] = resultsLows.values"
   ]
  },
  {
   "cell_type": "code",
   "execution_count": 73,
   "metadata": {},
   "outputs": [],
   "source": [
    "df.index = [\"Macro F1\", \"Accuracy\", \"Macro ROC\"]"
   ]
  },
  {
   "cell_type": "code",
   "execution_count": 93,
   "metadata": {},
   "outputs": [
    {
     "data": {
      "text/plain": [
       "Text(0, 0.5, 'Scores')"
      ]
     },
     "execution_count": 93,
     "metadata": {},
     "output_type": "execute_result"
    },
    {
     "data": {
      "image/png": "[encoded data removed]",
      "text/plain": [
       "<Figure size 1152x720 with 1 Axes>"
      ]
     },
     "metadata": {
      "needs_background": "light"
     },
     "output_type": "display_data"
    }
   ],
   "source": [
    "ax = df.plot(kind='bar', colormap = \"Set3_r\", figsize=(16,10), title=\"Average scores for each model\")\n",
    "ax.set_ylabel(\"Scores\")"
   ]
  },
  {
   "cell_type": "markdown",
   "metadata": {},
   "source": [
    "# Activation Functions"
   ]
  },
  {
   "cell_type": "markdown",
   "metadata": {},
   "source": [
    "### ANN\n",
    "#### Softmax"
   ]
  },
  {
   "cell_type": "code",
   "execution_count": 95,
   "metadata": {},
   "outputs": [],
   "source": [
    "softmax1 = pd.read_csv(\"sup/set-softmax-1.csv\")\n",
    "softmax2 = pd.read_csv(\"sup/set-softmax-2.csv\")\n",
    "softmax3 = pd.read_csv(\"sup/set-softmax-3.csv\")\n",
    "softmax4 = pd.read_csv(\"sup/set-softmax-4.csv\")\n",
    "\n",
    "softmax1.drop([\"Unnamed: 0\", 'subset'], axis=1, inplace=True)\n",
    "softmax2.drop([\"Unnamed: 0\", 'subset'], axis=1, inplace=True)\n",
    "softmax3.drop([\"Unnamed: 0\", 'subset'], axis=1, inplace=True)\n",
    "softmax4.drop([\"Unnamed: 0\", 'subset'], axis=1, inplace=True)"
   ]
  },
  {
   "cell_type": "code",
   "execution_count": 96,
   "metadata": {},
   "outputs": [
    {
     "data": {
      "text/plain": [
       "trainingAcc     0.820212\n",
       "testingAcc      0.821474\n",
       "trainAuc        0.541024\n",
       "testAuc         0.541187\n",
       "trainPre        0.185192\n",
       "testPre         0.185218\n",
       "trainRe         0.018211\n",
       "testRe          0.016568\n",
       "trainingLoss    0.626165\n",
       "testingLoss     0.625472\n",
       "dtype: float64"
      ]
     },
     "execution_count": 96,
     "metadata": {},
     "output_type": "execute_result"
    }
   ],
   "source": [
    "softmax = softmax1.append(softmax2, ignore_index=True)\n",
    "softmax = softmax.append(softmax3, ignore_index=True)\n",
    "softmax = softmax.append(softmax4, ignore_index=True)\n",
    "softmax = softmax.mean()\n",
    "softmax"
   ]
  },
  {
   "cell_type": "markdown",
   "metadata": {},
   "source": [
    "### Average scores of 4 datasets"
   ]
  },
  {
   "cell_type": "code",
   "execution_count": 192,
   "metadata": {},
   "outputs": [
    {
     "data": {
      "text/plain": [
       "scoreF1     0.450512\n",
       "scoreAcc    0.820663\n",
       "scoreRoc    0.499965\n",
       "dtype: float64"
      ]
     },
     "execution_count": 192,
     "metadata": {},
     "output_type": "execute_result"
    }
   ],
   "source": [
    "resultsSoftmax = pd.read_csv(\"average-softmax.csv\")\n",
    "resultsSoftmax.drop(\"Unnamed: 0\", axis=1, inplace=True)\n",
    "resultsSoftmax = resultsSoftmax.mean()\n",
    "resultsSoftmax"
   ]
  },
  {
   "cell_type": "markdown",
   "metadata": {},
   "source": [
    "#### Elu"
   ]
  },
  {
   "cell_type": "code",
   "execution_count": 99,
   "metadata": {},
   "outputs": [],
   "source": [
    "elu1 = pd.read_csv(\"sup/set-elu-1.csv\")\n",
    "elu2 = pd.read_csv(\"sup/set-elu-2.csv\")\n",
    "elu3 = pd.read_csv(\"sup/set-elu-3.csv\")\n",
    "elu4 = pd.read_csv(\"sup/set-elu-4.csv\")\n",
    "\n",
    "elu1.drop([\"Unnamed: 0\", 'subset'], axis=1, inplace=True)\n",
    "elu2.drop([\"Unnamed: 0\", 'subset'], axis=1, inplace=True)\n",
    "elu3.drop([\"Unnamed: 0\", 'subset'], axis=1, inplace=True)\n",
    "elu4.drop([\"Unnamed: 0\", 'subset'], axis=1, inplace=True)"
   ]
  },
  {
   "cell_type": "code",
   "execution_count": 100,
   "metadata": {},
   "outputs": [
    {
     "data": {
      "text/plain": [
       "trainingAcc     0.817818\n",
       "testingAcc      0.820039\n",
       "trainAuc        0.623830\n",
       "testAuc         0.625615\n",
       "trainPre        0.302978\n",
       "testPre         0.305278\n",
       "trainRe         0.072592\n",
       "testRe          0.068077\n",
       "trainingLoss    0.448360\n",
       "testingLoss     0.446383\n",
       "dtype: float64"
      ]
     },
     "execution_count": 100,
     "metadata": {},
     "output_type": "execute_result"
    }
   ],
   "source": [
    "elu = elu1.append(elu2, ignore_index=True)\n",
    "elu = elu.append(elu3, ignore_index=True)\n",
    "elu = elu.append(elu4, ignore_index=True)\n",
    "elu = elu.mean()\n",
    "elu"
   ]
  },
  {
   "cell_type": "markdown",
   "metadata": {},
   "source": [
    "### Average scores of 4 datasets"
   ]
  },
  {
   "cell_type": "code",
   "execution_count": 196,
   "metadata": {},
   "outputs": [
    {
     "data": {
      "text/plain": [
       "scoreF1     0.605101\n",
       "scoreAcc    0.767890\n",
       "scoreRoc    0.610437\n",
       "dtype: float64"
      ]
     },
     "execution_count": 196,
     "metadata": {},
     "output_type": "execute_result"
    }
   ],
   "source": [
    "resultsElu = pd.read_csv(\"average-elu.csv\")\n",
    "resultsElu.drop(\"Unnamed: 0\", axis=1, inplace=True)\n",
    "resultsElu = resultsElu.mean()\n",
    "resultsElu"
   ]
  },
  {
   "cell_type": "markdown",
   "metadata": {},
   "source": [
    "#### Sigmoid"
   ]
  },
  {
   "cell_type": "code",
   "execution_count": 194,
   "metadata": {},
   "outputs": [],
   "source": [
    "sigmoid1 = pd.read_csv(\"sup/set-sigmoid-1.csv\")\n",
    "sigmoid2 = pd.read_csv(\"sup/set-sigmoid-2.csv\")\n",
    "sigmoid3 = pd.read_csv(\"sup/set-sigmoid-3.csv\")\n",
    "sigmoid4 = pd.read_csv(\"sup/set-sigmoid-4.csv\")\n",
    "\n",
    "sigmoid1.drop([\"Unnamed: 0\", 'subset'], axis=1, inplace=True)\n",
    "sigmoid2.drop([\"Unnamed: 0\", 'subset'], axis=1, inplace=True)\n",
    "sigmoid3.drop([\"Unnamed: 0\", 'subset'], axis=1, inplace=True)\n",
    "sigmoid4.drop([\"Unnamed: 0\", 'subset'], axis=1, inplace=True)"
   ]
  },
  {
   "cell_type": "code",
   "execution_count": 195,
   "metadata": {},
   "outputs": [
    {
     "data": {
      "text/plain": [
       "trainingAcc     0.792831\n",
       "testingAcc      0.821320\n",
       "trainAuc        0.554593\n",
       "testAuc         0.558333\n",
       "trainPre        0.175766\n",
       "testPre         0.176109\n",
       "trainRe         0.123970\n",
       "testRe          0.106144\n",
       "trainingLoss    0.500847\n",
       "testingLoss     0.477974\n",
       "dtype: float64"
      ]
     },
     "execution_count": 195,
     "metadata": {},
     "output_type": "execute_result"
    }
   ],
   "source": [
    "sigmoid = sigmoid1.append(sigmoid2, ignore_index=True)\n",
    "sigmoid = sigmoid.append(sigmoid3, ignore_index=True)\n",
    "sigmoid = sigmoid.append(sigmoid4, ignore_index=True)\n",
    "sigmoid = sigmoid.mean()\n",
    "sigmoid"
   ]
  },
  {
   "cell_type": "markdown",
   "metadata": {},
   "source": [
    "### Average scores of 4 datasets"
   ]
  },
  {
   "cell_type": "code",
   "execution_count": 197,
   "metadata": {},
   "outputs": [
    {
     "data": {
      "text/plain": [
       "scoreF1     0.502042\n",
       "scoreAcc    0.717939\n",
       "scoreRoc    0.502708\n",
       "dtype: float64"
      ]
     },
     "execution_count": 197,
     "metadata": {},
     "output_type": "execute_result"
    }
   ],
   "source": [
    "resultsSigmoid = pd.read_csv(\"average-sigmoid.csv\")\n",
    "resultsSigmoid.drop(\"Unnamed: 0\", axis=1, inplace=True)\n",
    "resultsSigmoid = resultsSigmoid.mean()\n",
    "resultsSigmoid"
   ]
  },
  {
   "cell_type": "markdown",
   "metadata": {},
   "source": [
    "#### Tanh"
   ]
  },
  {
   "cell_type": "code",
   "execution_count": 103,
   "metadata": {},
   "outputs": [],
   "source": [
    "tanh1 = pd.read_csv(\"sup/set-tanh-1.csv\")\n",
    "tanh2 = pd.read_csv(\"sup/set-tanh-2.csv\")\n",
    "tanh3 = pd.read_csv(\"sup/set-tanh-3.csv\")\n",
    "tanh4 = pd.read_csv(\"sup/set-tanh-4.csv\")\n",
    "\n",
    "tanh1.drop([\"Unnamed: 0\", 'subset'], axis=1, inplace=True)\n",
    "tanh2.drop([\"Unnamed: 0\", 'subset'], axis=1, inplace=True)\n",
    "tanh3.drop([\"Unnamed: 0\", 'subset'], axis=1, inplace=True)\n",
    "tanh4.drop([\"Unnamed: 0\", 'subset'], axis=1, inplace=True)"
   ]
  },
  {
   "cell_type": "code",
   "execution_count": 104,
   "metadata": {},
   "outputs": [
    {
     "data": {
      "text/plain": [
       "trainingAcc     0.822693\n",
       "testingAcc      0.823230\n",
       "trainAuc        0.639274\n",
       "testAuc         0.640254\n",
       "trainPre        0.321437\n",
       "testPre         0.323110\n",
       "trainRe         0.037906\n",
       "testRe          0.035524\n",
       "trainingLoss    0.432503\n",
       "testingLoss     0.436546\n",
       "dtype: float64"
      ]
     },
     "execution_count": 104,
     "metadata": {},
     "output_type": "execute_result"
    }
   ],
   "source": [
    "tanh = tanh1.append(tanh2, ignore_index=True)\n",
    "tanh = tanh.append(tanh3, ignore_index=True)\n",
    "tanh = tanh.append(tanh4, ignore_index=True)\n",
    "tanh = tanh.mean()\n",
    "tanh"
   ]
  },
  {
   "cell_type": "markdown",
   "metadata": {},
   "source": [
    "### Average scores of 4 datasets"
   ]
  },
  {
   "cell_type": "code",
   "execution_count": 201,
   "metadata": {},
   "outputs": [
    {
     "data": {
      "text/plain": [
       "scoreF1     0.616835\n",
       "scoreAcc    0.778799\n",
       "scoreRoc    0.620058\n",
       "dtype: float64"
      ]
     },
     "execution_count": 201,
     "metadata": {},
     "output_type": "execute_result"
    }
   ],
   "source": [
    "resultsTanh = pd.read_csv(\"average-tanh.csv\")\n",
    "resultsTanh.drop(\"Unnamed: 0\", axis=1, inplace=True)\n",
    "resultsTanh = resultsTanh.mean()\n",
    "resultsTanh"
   ]
  },
  {
   "cell_type": "markdown",
   "metadata": {},
   "source": [
    "#### Relu"
   ]
  },
  {
   "cell_type": "code",
   "execution_count": null,
   "metadata": {},
   "outputs": [],
   "source": [
    "relu1 = pd.read_csv(\"sup/set-relu-1.csv\")\n",
    "relu2 = pd.read_csv(\"sup/set-relu-2.csv\")\n",
    "relu3 = pd.read_csv(\"sup/set-relu-3.csv\")\n",
    "relu4 = pd.read_csv(\"sup/set-relu-4.csv\")\n",
    "\n",
    "relu1.drop([\"Unnamed: 0\", 'subset'], axis=1, inplace=True)\n",
    "relu2.drop([\"Unnamed: 0\", 'subset'], axis=1, inplace=True)\n",
    "relu3.drop([\"Unnamed: 0\", 'subset'], axis=1, inplace=True)\n",
    "relu4.drop([\"Unnamed: 0\", 'subset'], axis=1, inplace=True)"
   ]
  },
  {
   "cell_type": "code",
   "execution_count": 117,
   "metadata": {},
   "outputs": [
    {
     "data": {
      "text/plain": [
       "trainingAcc     0.830989\n",
       "testingAcc      0.826048\n",
       "trainAuc        0.707640\n",
       "testAuc         0.708129\n",
       "trainPre        0.510894\n",
       "testPre         0.511728\n",
       "trainRe         0.070037\n",
       "testRe          0.069319\n",
       "trainingLoss    0.401018\n",
       "testingLoss     0.418311\n",
       "dtype: float64"
      ]
     },
     "execution_count": 117,
     "metadata": {},
     "output_type": "execute_result"
    }
   ],
   "source": [
    "relu = tanh1.append(tanh2, ignore_index=True)\n",
    "relu = tanh.append(tanh3, ignore_index=True)\n",
    "relu = tanh.append(tanh4, ignore_index=True)\n",
    "relu = tanh.mean()\n",
    "relu"
   ]
  },
  {
   "cell_type": "markdown",
   "metadata": {},
   "source": [
    "### Average scores for 4 datasets"
   ]
  },
  {
   "cell_type": "code",
   "execution_count": 199,
   "metadata": {},
   "outputs": [
    {
     "data": {
      "text/plain": [
       "scoreF1     0.630536\n",
       "scoreAcc    0.787400\n",
       "scoreRoc    0.633511\n",
       "dtype: float64"
      ]
     },
     "execution_count": 199,
     "metadata": {},
     "output_type": "execute_result"
    }
   ],
   "source": [
    "resultsRelu = pd.read_csv(\"average-ten-f1-based.csv\")\n",
    "resultsRelu.drop(\"Unnamed: 0\", axis=1, inplace=True)\n",
    "resultsRelu = resultsRelu.mean()\n",
    "resultsRelu"
   ]
  },
  {
   "cell_type": "markdown",
   "metadata": {},
   "source": [
    "## Comparing models"
   ]
  },
  {
   "cell_type": "code",
   "execution_count": 121,
   "metadata": {},
   "outputs": [],
   "source": [
    "df = pd.DataFrame()\n",
    "df['Softmax'] = softmax.values\n",
    "df['Sigmoid'] = sigmoid.values\n",
    "df['Elu'] = elu.values\n",
    "df['Relu'] = relu.values\n",
    "df['Tanh'] = tanh.values\n",
    "df.index = softmax.keys()"
   ]
  },
  {
   "cell_type": "code",
   "execution_count": 122,
   "metadata": {},
   "outputs": [
    {
     "data": {
      "text/plain": [
       "Text(0, 0.5, 'Scores')"
      ]
     },
     "execution_count": 122,
     "metadata": {},
     "output_type": "execute_result"
    },
    {
     "data": {
      "image/png": "[encoded data removed]",
      "text/plain": [
       "<Figure size 1152x720 with 1 Axes>"
      ]
     },
     "metadata": {
      "needs_background": "light"
     },
     "output_type": "display_data"
    }
   ],
   "source": [
    "ax = df.plot(kind='bar', colormap = \"Set3_r\", figsize=(16,10), title=\"Average scores for each model\")\n",
    "ax.set_ylabel(\"Scores\")"
   ]
  },
  {
   "cell_type": "markdown",
   "metadata": {},
   "source": [
    "## Comparing Results"
   ]
  },
  {
   "cell_type": "code",
   "execution_count": 203,
   "metadata": {},
   "outputs": [],
   "source": [
    "df = pd.DataFrame()\n",
    "df['Softmax'] = resultsSoftmax.values\n",
    "df['Sigmoid'] = resultsSigmoid.values\n",
    "df['Elu'] = resultsElu.values\n",
    "df['Relu'] = resultsRelu.values\n",
    "df['Tanh'] = resultsTanh.values\n",
    "df.index = resultsSoftmax.keys()"
   ]
  },
  {
   "cell_type": "code",
   "execution_count": 204,
   "metadata": {},
   "outputs": [
    {
     "data": {
      "text/plain": [
       "Text(0, 0.5, 'Scores')"
      ]
     },
     "execution_count": 204,
     "metadata": {},
     "output_type": "execute_result"
    },
    {
     "data": {
      "image/png": "[encoded data removed]",
      "text/plain": [
       "<Figure size 1152x720 with 1 Axes>"
      ]
     },
     "metadata": {
      "needs_background": "light"
     },
     "output_type": "display_data"
    }
   ],
   "source": [
    "ax = df.plot(kind='bar', colormap = \"Set3_r\", figsize=(16,10), title=\"Average scores for each model\")\n",
    "ax.set_ylabel(\"Scores\")"
   ]
  },
  {
   "cell_type": "markdown",
   "metadata": {},
   "source": [
    "# Batch Size"
   ]
  },
  {
   "cell_type": "markdown",
   "metadata": {},
   "source": [
    "## ANN Performance"
   ]
  },
  {
   "cell_type": "markdown",
   "metadata": {},
   "source": [
    "### 100"
   ]
  },
  {
   "cell_type": "code",
   "execution_count": 123,
   "metadata": {},
   "outputs": [],
   "source": [
    "set100_1 = pd.read_csv(\"batch/set-batch-1001.csv\")\n",
    "set100_2 = pd.read_csv(\"batch/set-batch-1002.csv\")\n",
    "set100_3 = pd.read_csv(\"batch/set-batch-1003.csv\")\n",
    "set100_4 = pd.read_csv(\"batch/set-batch-1004.csv\")\n",
    "\n",
    "set100_1.drop([\"Unnamed: 0\", 'subset'], axis=1, inplace=True)\n",
    "set100_2.drop([\"Unnamed: 0\", 'subset'], axis=1, inplace=True)\n",
    "set100_3.drop([\"Unnamed: 0\", 'subset'], axis=1, inplace=True)\n",
    "set100_4.drop([\"Unnamed: 0\", 'subset'], axis=1, inplace=True)"
   ]
  },
  {
   "cell_type": "code",
   "execution_count": 124,
   "metadata": {},
   "outputs": [
    {
     "data": {
      "text/plain": [
       "trainingAcc     0.834472\n",
       "testingAcc      0.826032\n",
       "trainAuc        0.733641\n",
       "testAuc         0.741647\n",
       "trainPre        0.564568\n",
       "testPre         0.582108\n",
       "trainRe         0.098166\n",
       "testRe          0.104018\n",
       "trainingLoss    0.388838\n",
       "testingLoss     0.410843\n",
       "dtype: float64"
      ]
     },
     "execution_count": 124,
     "metadata": {},
     "output_type": "execute_result"
    }
   ],
   "source": [
    "set100 = set100_1.append(set100_2, ignore_index=True)\n",
    "set100 = set100.append(set100_3, ignore_index=True)\n",
    "set100 = set100.append(set100_4, ignore_index=True)\n",
    "set100 = set100.mean()\n",
    "set100"
   ]
  },
  {
   "cell_type": "markdown",
   "metadata": {},
   "source": [
    "#### Average scores of 4 datasets"
   ]
  },
  {
   "cell_type": "code",
   "execution_count": null,
   "metadata": {},
   "outputs": [],
   "source": [
    "results100 = pd.read_csv(\"average-100.csv\")\n",
    "results100.drop(\"Unnamed: 0\", axis=1, inplace=True)\n",
    "results100 = resultsHigh.mean()\n",
    "results100"
   ]
  },
  {
   "cell_type": "markdown",
   "metadata": {},
   "source": [
    "### 500"
   ]
  },
  {
   "cell_type": "code",
   "execution_count": 125,
   "metadata": {},
   "outputs": [],
   "source": [
    "set500_1 = pd.read_csv(\"batch/set-batch-5001.csv\")\n",
    "set500_2 = pd.read_csv(\"batch/set-batch-5002.csv\")\n",
    "set500_3 = pd.read_csv(\"batch/set-batch-5003.csv\")\n",
    "set500_4 = pd.read_csv(\"batch/set-batch-5004.csv\")\n",
    "\n",
    "set500_1.drop([\"Unnamed: 0\", 'subset'], axis=1, inplace=True)\n",
    "set500_2.drop([\"Unnamed: 0\", 'subset'], axis=1, inplace=True)\n",
    "set500_3.drop([\"Unnamed: 0\", 'subset'], axis=1, inplace=True)\n",
    "set500_4.drop([\"Unnamed: 0\", 'subset'], axis=1, inplace=True)"
   ]
  },
  {
   "cell_type": "code",
   "execution_count": 126,
   "metadata": {},
   "outputs": [
    {
     "data": {
      "text/plain": [
       "trainingAcc     0.831546\n",
       "testingAcc      0.824810\n",
       "trainAuc        0.713510\n",
       "testAuc         0.720130\n",
       "trainPre        0.527467\n",
       "testPre         0.540442\n",
       "trainRe         0.074083\n",
       "testRe          0.074680\n",
       "trainingLoss    0.398975\n",
       "testingLoss     0.417215\n",
       "dtype: float64"
      ]
     },
     "execution_count": 126,
     "metadata": {},
     "output_type": "execute_result"
    }
   ],
   "source": [
    "set500 = set500_1.append(set500_2, ignore_index=True)\n",
    "set500 = set500.append(set500_3, ignore_index=True)\n",
    "set500 = set500.append(set500_4, ignore_index=True)\n",
    "set500 = set500.mean()\n",
    "set500"
   ]
  },
  {
   "cell_type": "markdown",
   "metadata": {},
   "source": [
    "### 1000"
   ]
  },
  {
   "cell_type": "code",
   "execution_count": 127,
   "metadata": {},
   "outputs": [],
   "source": [
    "set1000_1 = pd.read_csv(\"batch/set-batch-10001.csv\")\n",
    "set1000_2 = pd.read_csv(\"batch/set-batch-10002.csv\")\n",
    "set1000_3 = pd.read_csv(\"batch/set-batch-10003.csv\")\n",
    "set1000_4 = pd.read_csv(\"batch/set-batch-10004.csv\")\n",
    "\n",
    "set1000_1.drop([\"Unnamed: 0\", 'subset'], axis=1, inplace=True)\n",
    "set1000_2.drop([\"Unnamed: 0\", 'subset'], axis=1, inplace=True)\n",
    "set1000_3.drop([\"Unnamed: 0\", 'subset'], axis=1, inplace=True)\n",
    "set1000_4.drop([\"Unnamed: 0\", 'subset'], axis=1, inplace=True)"
   ]
  },
  {
   "cell_type": "code",
   "execution_count": 128,
   "metadata": {},
   "outputs": [
    {
     "data": {
      "text/plain": [
       "trainingAcc     0.830256\n",
       "testingAcc      0.825624\n",
       "trainAuc        0.704258\n",
       "testAuc         0.708975\n",
       "trainPre        0.509516\n",
       "testPre         0.518783\n",
       "trainRe         0.065180\n",
       "testRe          0.064044\n",
       "trainingLoss    0.403707\n",
       "testingLoss     0.416915\n",
       "dtype: float64"
      ]
     },
     "execution_count": 128,
     "metadata": {},
     "output_type": "execute_result"
    }
   ],
   "source": [
    "set1000 = set1000_1.append(set1000_2, ignore_index=True)\n",
    "set1000 = set1000.append(set1000_3, ignore_index=True)\n",
    "set1000 = set1000.append(set1000_4, ignore_index=True)\n",
    "set1000 = set1000.mean()\n",
    "set1000"
   ]
  },
  {
   "cell_type": "markdown",
   "metadata": {},
   "source": [
    "### 5000"
   ]
  },
  {
   "cell_type": "code",
   "execution_count": 129,
   "metadata": {},
   "outputs": [],
   "source": [
    "set5000_1 = pd.read_csv(\"batch/set-batch-50001.csv\")\n",
    "set5000_2 = pd.read_csv(\"batch/set-batch-50002.csv\")\n",
    "set5000_3 = pd.read_csv(\"batch/set-batch-50003.csv\")\n",
    "set5000_4 = pd.read_csv(\"batch/set-batch-50004.csv\")\n",
    "\n",
    "set5000_1.drop([\"Unnamed: 0\", 'subset'], axis=1, inplace=True)\n",
    "set5000_2.drop([\"Unnamed: 0\", 'subset'], axis=1, inplace=True)\n",
    "set5000_3.drop([\"Unnamed: 0\", 'subset'], axis=1, inplace=True)\n",
    "set5000_4.drop([\"Unnamed: 0\", 'subset'], axis=1, inplace=True)"
   ]
  },
  {
   "cell_type": "code",
   "execution_count": 130,
   "metadata": {},
   "outputs": [
    {
     "data": {
      "text/plain": [
       "trainingAcc     0.821185\n",
       "testingAcc      0.821780\n",
       "trainAuc        0.638024\n",
       "testAuc         0.641036\n",
       "trainPre        0.311385\n",
       "testPre         0.315984\n",
       "trainRe         0.039200\n",
       "testRe          0.033734\n",
       "trainingLoss    0.437613\n",
       "testingLoss     0.437703\n",
       "dtype: float64"
      ]
     },
     "execution_count": 130,
     "metadata": {},
     "output_type": "execute_result"
    }
   ],
   "source": [
    "set5000 = set5000_1.append(set5000_2, ignore_index=True)\n",
    "set5000 = set5000.append(set5000_3, ignore_index=True)\n",
    "set5000 = set5000.append(set5000_4, ignore_index=True)\n",
    "set5000 = set5000.mean()\n",
    "set5000"
   ]
  },
  {
   "cell_type": "code",
   "execution_count": null,
   "metadata": {},
   "outputs": [],
   "source": []
  },
  {
   "cell_type": "markdown",
   "metadata": {},
   "source": [
    "### 10000"
   ]
  },
  {
   "cell_type": "code",
   "execution_count": 131,
   "metadata": {},
   "outputs": [],
   "source": [
    "set10000_1 = pd.read_csv(\"batch/set-batch-100001.csv\")\n",
    "set10000_2 = pd.read_csv(\"batch/set-batch-100002.csv\")\n",
    "set10000_3 = pd.read_csv(\"batch/set-batch-100003.csv\")\n",
    "set10000_4 = pd.read_csv(\"batch/set-batch-100004.csv\")\n",
    "\n",
    "set10000_1.drop([\"Unnamed: 0\", 'subset'], axis=1, inplace=True)\n",
    "set10000_2.drop([\"Unnamed: 0\", 'subset'], axis=1, inplace=True)\n",
    "set10000_3.drop([\"Unnamed: 0\", 'subset'], axis=1, inplace=True)\n",
    "set10000_4.drop([\"Unnamed: 0\", 'subset'], axis=1, inplace=True)"
   ]
  },
  {
   "cell_type": "code",
   "execution_count": 132,
   "metadata": {},
   "outputs": [
    {
     "data": {
      "text/plain": [
       "trainingAcc     0.820073\n",
       "testingAcc      0.821941\n",
       "trainAuc        0.631686\n",
       "testAuc         0.633177\n",
       "trainPre        0.285624\n",
       "testPre         0.287560\n",
       "trainRe         0.041926\n",
       "testRe          0.037944\n",
       "trainingLoss    0.440988\n",
       "testingLoss     0.440839\n",
       "dtype: float64"
      ]
     },
     "execution_count": 132,
     "metadata": {},
     "output_type": "execute_result"
    }
   ],
   "source": [
    "set10000 = set10000_1.append(set10000_2, ignore_index=True)\n",
    "set10000 = set10000.append(set10000_3, ignore_index=True)\n",
    "set10000 = set10000.append(set10000_4, ignore_index=True)\n",
    "set10000 = set10000.mean()\n",
    "set10000"
   ]
  },
  {
   "cell_type": "markdown",
   "metadata": {},
   "source": [
    "### 20000"
   ]
  },
  {
   "cell_type": "code",
   "execution_count": 133,
   "metadata": {},
   "outputs": [],
   "source": [
    "set20000_1 = pd.read_csv(\"batch/set-batch-200001.csv\")\n",
    "set20000_2 = pd.read_csv(\"batch/set-batch-200002.csv\")\n",
    "set20000_3 = pd.read_csv(\"batch/set-batch-200003.csv\")\n",
    "set20000_4 = pd.read_csv(\"batch/set-batch-200004.csv\")\n",
    "\n",
    "set20000_1.drop([\"Unnamed: 0\", 'subset'], axis=1, inplace=True)\n",
    "set20000_2.drop([\"Unnamed: 0\", 'subset'], axis=1, inplace=True)\n",
    "set20000_3.drop([\"Unnamed: 0\", 'subset'], axis=1, inplace=True)\n",
    "set20000_4.drop([\"Unnamed: 0\", 'subset'], axis=1, inplace=True)"
   ]
  },
  {
   "cell_type": "code",
   "execution_count": 134,
   "metadata": {},
   "outputs": [
    {
     "data": {
      "text/plain": [
       "trainingAcc     0.819800\n",
       "testingAcc      0.821496\n",
       "trainAuc        0.627396\n",
       "testAuc         0.627973\n",
       "trainPre        0.279369\n",
       "testPre         0.280093\n",
       "trainRe         0.042585\n",
       "testRe          0.040562\n",
       "trainingLoss    0.442819\n",
       "testingLoss     0.442791\n",
       "dtype: float64"
      ]
     },
     "execution_count": 134,
     "metadata": {},
     "output_type": "execute_result"
    }
   ],
   "source": [
    "set20000 = set20000_1.append(set20000_2, ignore_index=True)\n",
    "set20000 = set20000.append(set20000_3, ignore_index=True)\n",
    "set20000 = set20000.append(set20000_4, ignore_index=True)\n",
    "set20000 = set20000.mean()\n",
    "set20000"
   ]
  },
  {
   "cell_type": "markdown",
   "metadata": {},
   "source": [
    "### 30000"
   ]
  },
  {
   "cell_type": "code",
   "execution_count": 135,
   "metadata": {},
   "outputs": [],
   "source": [
    "set30000_1 = pd.read_csv(\"batch/set-batch-300001.csv\")\n",
    "set30000_2 = pd.read_csv(\"batch/set-batch-300002.csv\")\n",
    "set30000_3 = pd.read_csv(\"batch/set-batch-300003.csv\")\n",
    "set30000_4 = pd.read_csv(\"batch/set-batch-300004.csv\")\n",
    "\n",
    "set30000_1.drop([\"Unnamed: 0\", 'subset'], axis=1, inplace=True)\n",
    "set30000_2.drop([\"Unnamed: 0\", 'subset'], axis=1, inplace=True)\n",
    "set30000_3.drop([\"Unnamed: 0\", 'subset'], axis=1, inplace=True)\n",
    "set30000_4.drop([\"Unnamed: 0\", 'subset'], axis=1, inplace=True)"
   ]
  },
  {
   "cell_type": "code",
   "execution_count": 136,
   "metadata": {},
   "outputs": [
    {
     "data": {
      "text/plain": [
       "trainingAcc     0.819394\n",
       "testingAcc      0.821728\n",
       "trainAuc        0.630375\n",
       "testAuc         0.630587\n",
       "trainPre        0.276405\n",
       "testPre         0.276656\n",
       "trainRe         0.047475\n",
       "testRe          0.046655\n",
       "trainingLoss    0.441776\n",
       "testingLoss     0.441081\n",
       "dtype: float64"
      ]
     },
     "execution_count": 136,
     "metadata": {},
     "output_type": "execute_result"
    }
   ],
   "source": [
    "set30000 = set30000_1.append(set30000_2, ignore_index=True)\n",
    "set30000 = set30000.append(set30000_3, ignore_index=True)\n",
    "set30000 = set30000.append(set30000_4, ignore_index=True)\n",
    "set30000 = set30000.mean()\n",
    "set30000"
   ]
  },
  {
   "cell_type": "code",
   "execution_count": 162,
   "metadata": {},
   "outputs": [],
   "source": [
    "df = pd.DataFrame()\n",
    "df['100'] = set100.values\n",
    "df['500'] = set500.values\n",
    "df['1000'] = set1000.values\n",
    "df['5000'] = set5000.values\n",
    "df['10000'] = set10000.values\n",
    "df['20000'] = set20000.values\n",
    "df['30000'] = set30000.values\n",
    "df.index = set100.keys()"
   ]
  },
  {
   "cell_type": "code",
   "execution_count": 142,
   "metadata": {},
   "outputs": [
    {
     "data": {
      "text/plain": [
       "Text(0, 0.5, 'Scores')"
      ]
     },
     "execution_count": 142,
     "metadata": {},
     "output_type": "execute_result"
    },
    {
     "data": {
      "image/png": "[encoded data removed]",
      "text/plain": [
       "<Figure size 1152x720 with 1 Axes>"
      ]
     },
     "metadata": {
      "needs_background": "light"
     },
     "output_type": "display_data"
    }
   ],
   "source": [
    "ax = df.plot(kind='bar', colormap = \"Set3_r\", figsize=(16,10), title=\"Average scores for each model\")\n",
    "ax.set_ylabel(\"Scores\")"
   ]
  },
  {
   "cell_type": "markdown",
   "metadata": {},
   "source": [
    "# Patience"
   ]
  },
  {
   "cell_type": "markdown",
   "metadata": {},
   "source": [
    "### Model performance"
   ]
  },
  {
   "cell_type": "code",
   "execution_count": 164,
   "metadata": {},
   "outputs": [],
   "source": [
    "annMeds = pd.read_csv(\"full-ann-df.csv\")\n",
    "annMeds.drop([\"Unnamed: 0\", 'subset'], axis=1, inplace=True)\n",
    "metricCols = annMeds.columns\n",
    "df = annMeds.groupby('patience').mean()"
   ]
  },
  {
   "cell_type": "code",
   "execution_count": 171,
   "metadata": {},
   "outputs": [],
   "source": [
    "df = df.T"
   ]
  },
  {
   "cell_type": "code",
   "execution_count": 200,
   "metadata": {},
   "outputs": [
    {
     "data": {
      "text/plain": [
       "Text(0, 0.5, 'Scores')"
      ]
     },
     "execution_count": 200,
     "metadata": {},
     "output_type": "execute_result"
    },
    {
     "data": {
      "image/png": "[encoded data removed]",
      "text/plain": [
       "<Figure size 1152x720 with 1 Axes>"
      ]
     },
     "metadata": {
      "needs_background": "light"
     },
     "output_type": "display_data"
    }
   ],
   "source": [
    "ax = df.plot(kind='bar', colormap = \"Set3_r\", figsize=(16,10), title=\"Average scores for each model\")\n",
    "ax.set_ylabel(\"Scores\")"
   ]
  },
  {
   "cell_type": "markdown",
   "metadata": {},
   "source": [
    "### Average scores of 4 datasets"
   ]
  },
  {
   "cell_type": "code",
   "execution_count": null,
   "metadata": {},
   "outputs": [],
   "source": []
  }
 ],
 "metadata": {
  "kernelspec": {
   "display_name": "Python 3",
   "language": "python",
   "name": "python3"
  },
  "language_info": {
   "codemirror_mode": {
    "name": "ipython",
    "version": 3
   },
   "file_extension": ".py",
   "mimetype": "text/x-python",
   "name": "python",
   "nbconvert_exporter": "python",
   "pygments_lexer": "ipython3",
   "version": "3.7.4"
  }
 },
 "nbformat": 4,
 "nbformat_minor": 2
}
